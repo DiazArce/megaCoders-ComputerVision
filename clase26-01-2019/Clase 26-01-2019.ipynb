{
 "cells": [
  {
   "cell_type": "markdown",
   "metadata": {},
   "source": [
    "# Clase 12/01/2019"
   ]
  },
  {
   "cell_type": "markdown",
   "metadata": {},
   "source": [
    "## Guía Alumno - @RobotistasMX"
   ]
  },
  {
   "cell_type": "code",
   "execution_count": 2,
   "metadata": {},
   "outputs": [
    {
     "name": "stdout",
     "output_type": "stream",
     "text": [
      "3.1.0\n"
     ]
    }
   ],
   "source": [
    "import cv2\n",
    "print(cv2.__version__)"
   ]
  },
  {
   "cell_type": "markdown",
   "metadata": {},
   "source": [
    "#### Lectura de imágenes"
   ]
  },
  {
   "cell_type": "code",
   "execution_count": 5,
   "metadata": {
    "collapsed": true
   },
   "outputs": [],
   "source": [
    "import cv2\n",
    "img = cv2.imread(\"imagenes/img1.jpg\")\n",
    "img = cv2.resize(img,(360,480))\n",
    "cv2.imshow(\"imagen\",img)\n",
    "cv2.waitKey(0)\n",
    "cv2.destroyAllWindows()"
   ]
  },
  {
   "cell_type": "markdown",
   "metadata": {},
   "source": [
    "#### Repaso HSV"
   ]
  },
  {
   "cell_type": "code",
   "execution_count": 1,
   "metadata": {},
   "outputs": [],
   "source": [
    "import cv2 as cv\n",
    "import numpy as np\n",
    "cap = cv.VideoCapture(0)\n",
    "while(True):\n",
    "    _ , frame = cap.read()\n",
    "    hsv = cv.cvtColor(frame, cv.COLOR_BGR2HSV)\n",
    "    \n",
    "    lower_blue = np.array([110,50,50])\n",
    "    upper_blue = np.array([130,255,255])\n",
    "    \n",
    "    mask = cv.inRange(hsv, lower_blue,upper_blue )\n",
    "    \n",
    "    filtro1 = cv.erode(mask, cv.getStructuringElement(cv.MORPH_RECT,(3,3)), iterations=1)\n",
    "    filtro2 = cv.erode(filtro1, cv.getStructuringElement(cv.MORPH_RECT,(5,5)), iterations=1)\n",
    "    \n",
    "    objct = cv.moments(filtro2)\n",
    "    if objct['m00'] > 50000:\n",
    "        cx = int(objct['m10']/objct['m00'])\n",
    "        cy = int(objct['m01']/objct['m00'])\n",
    "        cv.circle(frame, (cx,cy), 10, (0,0,255), 4)\n",
    "        \n",
    "    cv.imshow('original', frame)\n",
    "    cv.imshow('azul', filtro2)\n",
    "    k = cv.waitKey(5) \n",
    "    if k == 27:\n",
    "        break\n",
    "cv.destroyAllWindows()"
   ]
  },
  {
   "cell_type": "markdown",
   "metadata": {},
   "source": [
    "#### Repaso detección círculos"
   ]
  },
  {
   "cell_type": "code",
   "execution_count": 4,
   "metadata": {},
   "outputs": [
    {
     "name": "stdout",
     "output_type": "stream",
     "text": [
      "NO SE DETECTA EL BALON\n"
     ]
    }
   ],
   "source": [
    "#Librerias necesarias\n",
    "import cv2\n",
    "import numpy as np\n",
    "\n",
    "maxCirculos=6\n",
    "maxCirculos=maxCirculos-1\n",
    "\n",
    "video = cv2.VideoCapture(0)\n",
    "\n",
    "while True:\n",
    "    ret, frame = video.read()\n",
    "    framegrey1 = cv2.cvtColor(frame, cv2.COLOR_RGB2GRAY)\n",
    "    cv2.imshow(\"Original\", framegrey1)\n",
    "    \n",
    "    \n",
    "    gray = cv2.GaussianBlur(framegrey1, (1,1), 2)\n",
    "    \"\"\"\n",
    "    La funcion cv2.medianBlur toma la mediana de todos los pixeles bajo el area del kernel y el elemento central se sustituye por este valor mediano. \n",
    "    Esto es muy eficaz contra el ruido en las imagenes.\n",
    "    Lo interesante es que el elemento central es un valor recien calculado que puede ser un valor de pixel en la imagen o un nuevo valor.\n",
    "    Pero en el desenfoque mediano, el elemento central siempre es reemplazado por algun valor de pixel en la imagen.\n",
    "    Reduce el ruido de manera efectiva. Su tamano de nucleo debe ser un numero entero impar positivo.\n",
    "    \"\"\"\n",
    "    \n",
    "    gray = cv2.medianBlur(gray,5)\n",
    "\n",
    "    # La funcion transforma la imagen en escala de grises a una imagen binaria\n",
    "    gray = cv2.adaptiveThreshold(gray,255,cv2.ADAPTIVE_THRESH_GAUSSIAN_C,cv2.THRESH_BINARY,19,3)\n",
    "    \n",
    "    #Se crea el kernel que se utilizara para la funcion erode y dilate\n",
    "    kernel = np.ones((3,3),np.uint8)\n",
    "    \n",
    "\t  #Erosion quita la estructura de pixeles de la capa mas externa\n",
    "\t  #Dilation agrega pixeles a la estructura de la capa mas externa\n",
    "    gray = cv2.erode(gray,kernel,iterations = 1) \n",
    "    gray = cv2.dilate(gray,kernel,iterations = 1)\n",
    "    \n",
    "    #DETECCION DE CIRCULOS\n",
    "    circles =  cv2.HoughCircles(gray, cv2.HOUGH_GRADIENT, 1, 10, np.array([]), 100, 25, 5, 100)\n",
    "    \n",
    "    #DIBUJAMOS LOS CIRCULOS EN LOS ENCONTRADOS EN FRAME\n",
    "    #DIBUJARA SOLAMENTE EL MAXIMO DE CIRCULOS PERMITIDO\n",
    "    circulos=0\n",
    "    if circles is not None:\n",
    "        try:\n",
    "            for c in circles[0]:\n",
    "                cv2.circle(frame, (c[0],c[1]), c[2], (0,255,0),2)\n",
    "                circulos=circulos+1\n",
    "                print(\"Coordenada X: \" + str(c[0]))\n",
    "                print(\"Coordenada Y: \" + str(c[1]))\n",
    "                if(circulos>maxCirculos):\n",
    "                    break\n",
    "        except:\n",
    "            print(\"NO SE DETECTA EL BALON\")\n",
    "    else:\n",
    "        print(\"NO SE DETECTA EL BALON\")\n",
    "    \n",
    "  \n",
    "    cv2.imshow(\"video\", frame)\n",
    "    cv2.imshow(\"filtros\", gray)\n",
    "    if cv2.waitKey(1) & 0xFF == ord('q'):\n",
    "        break\n",
    "video.release()\n",
    "cv2.destroyAllWindows()"
   ]
  },
  {
   "cell_type": "markdown",
   "metadata": {
    "collapsed": true
   },
   "source": [
    "#### HSV y detección de círculos"
   ]
  },
  {
   "cell_type": "code",
   "execution_count": 2,
   "metadata": {
    "collapsed": true
   },
   "outputs": [],
   "source": [
    "#Se subirá el código al terminar la clase"
   ]
  },
  {
   "cell_type": "markdown",
   "metadata": {},
   "source": [
    "#### HSV y detección de círculos con imagen"
   ]
  },
  {
   "cell_type": "code",
   "execution_count": 3,
   "metadata": {
    "collapsed": true
   },
   "outputs": [],
   "source": [
    "#Se subirá el código al terminar la clase"
   ]
  },
  {
   "cell_type": "markdown",
   "metadata": {},
   "source": [
    "#### Color BGR"
   ]
  },
  {
   "cell_type": "code",
   "execution_count": 5,
   "metadata": {
    "collapsed": true
   },
   "outputs": [],
   "source": [
    "#Se subirá el código al terminar la clase"
   ]
  },
  {
   "cell_type": "markdown",
   "metadata": {},
   "source": [
    "#### tracking BGR"
   ]
  },
  {
   "cell_type": "code",
   "execution_count": 6,
   "metadata": {
    "collapsed": true
   },
   "outputs": [],
   "source": [
    "#Se subirá el código al terminar la clase"
   ]
  },
  {
   "cell_type": "markdown",
   "metadata": {},
   "source": [
    "#### BGR y detección de círculos"
   ]
  },
  {
   "cell_type": "code",
   "execution_count": 7,
   "metadata": {
    "collapsed": true
   },
   "outputs": [],
   "source": [
    "#Se subirá el código al terminar la clase"
   ]
  },
  {
   "cell_type": "markdown",
   "metadata": {},
   "source": [
    "#### HSV -> BGR -> GRAY -> BINARY con imagen"
   ]
  },
  {
   "cell_type": "code",
   "execution_count": 4,
   "metadata": {
    "collapsed": true
   },
   "outputs": [],
   "source": [
    "#Se subirá el código al terminar la clase"
   ]
  }
 ],
 "metadata": {
  "kernelspec": {
   "display_name": "Python 3",
   "language": "python",
   "name": "python3"
  },
  "language_info": {
   "codemirror_mode": {
    "name": "ipython",
    "version": 3
   },
   "file_extension": ".py",
   "mimetype": "text/x-python",
   "name": "python",
   "nbconvert_exporter": "python",
   "pygments_lexer": "ipython3",
   "version": "3.4.5"
  }
 },
 "nbformat": 4,
 "nbformat_minor": 2
}
