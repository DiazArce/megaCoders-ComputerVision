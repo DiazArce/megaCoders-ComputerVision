{
 "cells": [
  {
   "cell_type": "markdown",
   "metadata": {},
   "source": [
    "# Clase 23-02-2019"
   ]
  },
  {
   "cell_type": "markdown",
   "metadata": {},
   "source": [
    "## Guía Alumno - @RobotistasMX"
   ]
  },
  {
   "cell_type": "markdown",
   "metadata": {},
   "source": [
    "#### Material clase"
   ]
  },
  {
   "cell_type": "markdown",
   "metadata": {},
   "source": [
    "pip install pyserial"
   ]
  },
  {
   "cell_type": "markdown",
   "metadata": {},
   "source": [
    "conda install -c anaconda pyserial\n"
   ]
  },
  {
   "cell_type": "markdown",
   "metadata": {},
   "source": [
    "### Código ejemplo comunicación serial"
   ]
  },
  {
   "cell_type": "code",
   "execution_count": null,
   "metadata": {},
   "outputs": [],
   "source": [
    "import serial\n",
    "import time\n",
    "# python -m pip install pyserial\n",
    "# conda install -c anaconda pyserial\n",
    "arduino = serial.Serial('COM6', 9600, timeout=0)\n",
    "\n",
    "while(True):\n",
    "    arduino.flushInput()\n",
    "    arduino.flushOutput() \n",
    "    var = input(\"number: \")\n",
    "    if int(var) == 0:\n",
    "        arduino.write(b'0')\n",
    "    if int(var) == 1:\n",
    "        arduino.write(b'1')\n",
    "    if int(var) == 2:\n",
    "        arduino.write(b'2')\n",
    "    if int(var) == 3:\n",
    "        arduino.write(b'3')\n",
    "    time.sleep(0.5)\n",
    "\n",
    "arduino.close()"
   ]
  },
  {
   "cell_type": "markdown",
   "metadata": {},
   "source": [
    "### Código de ejemplo:"
   ]
  },
  {
   "cell_type": "code",
   "execution_count": null,
   "metadata": {},
   "outputs": [],
   "source": [
    "import numpy as np\n",
    "import cv2\n",
    "import serial\n",
    "import time\n",
    " \n",
    "\n",
    "video_capture = cv2.VideoCapture(0)\n",
    "video_capture.set(3, 160)\n",
    "video_capture.set(4, 120)\n",
    "arduino = serial.Serial('COM6', 9600, timeout=0)\n",
    " \n",
    "\n",
    "while(True):\n",
    "    arduino.flushInput()\n",
    "    arduino.flushOutput() \n",
    "    # Capture the frames\n",
    "    ret, frame = video_capture.read()\n",
    "\n",
    "    # Crop the image\n",
    "    crop_img = frame[60:120, 0:160]\n",
    "    # Convert to grayscale\n",
    "    gray = cv2.cvtColor(crop_img, cv2.COLOR_BGR2GRAY)\n",
    "    # Gaussian blur\n",
    "    blur = cv2.GaussianBlur(gray,(5,5),0)\n",
    "    # Color thresholding\n",
    "    ret,thresh = cv2.threshold(blur,60,255,cv2.THRESH_BINARY_INV)\n",
    "    # Find the contours of the frame\n",
    "    _, contours,hierarchy = cv2.findContours(thresh.copy(), 1, cv2.CHAIN_APPROX_NONE)\n",
    "    # Find the biggest contour (if detected)\n",
    "\n",
    "    if len(contours) > 0:\n",
    "        c = max(contours, key=cv2.contourArea)\n",
    "        M = cv2.moments(c)\n",
    "        cx = int(M['m10']/M['m00'])\n",
    "        cy = int(M['m01']/M['m00'])\n",
    "        cv2.line(crop_img,(cx,0),(cx,720),(255,0,0),1)\n",
    "        cv2.line(crop_img,(0,cy),(1280,cy),(255,0,0),1)\n",
    "        cv2.drawContours(crop_img, contours, -1, (0,255,0), 1)\n",
    "\n",
    "        if cx >= 120:\n",
    "            print(\"Turn Left!\")\n",
    "            arduino.write(b'2')\n",
    "        if cx < 120 and cx > 50:\n",
    "            print (\"On Track!\")\n",
    "            arduino.write(b'1')\n",
    "\n",
    "        if cx <= 50:\n",
    "            print (\"Turn Right\")\n",
    "            arduino.write(b'3')\n",
    "\n",
    "    else:\n",
    "        print(\"I don't see the line\")\n",
    "        \n",
    "    \n",
    "    #Display the resulting frame\n",
    "    cv2.imshow('frame',crop_img)\n",
    "    if cv2.waitKey(1) & 0xFF == ord('q'):\n",
    "        break\n",
    "    time.sleep(0.1)\n",
    "arduino.close()\n"
   ]
  },
  {
   "cell_type": "code",
   "execution_count": null,
   "metadata": {},
   "outputs": [],
   "source": []
  }
 ],
 "metadata": {
  "kernelspec": {
   "display_name": "Python 3",
   "language": "python",
   "name": "python3"
  },
  "language_info": {
   "codemirror_mode": {
    "name": "ipython",
    "version": 3
   },
   "file_extension": ".py",
   "mimetype": "text/x-python",
   "name": "python",
   "nbconvert_exporter": "python",
   "pygments_lexer": "ipython3",
   "version": "3.6.7"
  }
 },
 "nbformat": 4,
 "nbformat_minor": 2
}
