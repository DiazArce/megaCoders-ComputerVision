{
 "cells": [
  {
   "cell_type": "markdown",
   "metadata": {},
   "source": [
    "# Clase 02-03-2019"
   ]
  },
  {
   "cell_type": "markdown",
   "metadata": {},
   "source": [
    "### Guía Alumno - @RobotistasMX"
   ]
  },
  {
   "cell_type": "markdown",
   "metadata": {},
   "source": [
    "##### Material clase"
   ]
  },
  {
   "cell_type": "code",
   "execution_count": 1,
   "metadata": {},
   "outputs": [],
   "source": [
    "#pip install pyzbar"
   ]
  },
  {
   "cell_type": "markdown",
   "metadata": {},
   "source": [
    "#### Programa para leer códigos QR"
   ]
  },
  {
   "cell_type": "code",
   "execution_count": null,
   "metadata": {},
   "outputs": [],
   "source": [
    "import cv2\n",
    "import numpy as np\n",
    "import pyzbar.pyzbar as pyzbar\n",
    " \n",
    "cap = cv2.VideoCapture(0)\n",
    "font = cv2.FONT_HERSHEY_PLAIN\n",
    " \n",
    "while True:\n",
    "    _, frame = cap.read()\n",
    " \n",
    "    decodedObjects = pyzbar.decode(frame)\n",
    "    for obj in decodedObjects:\n",
    "        cv2.putText(frame, str(obj.data), (50, 50), font, 2,(255, 0, 0), 3)\n",
    " \n",
    "    cv2.imshow(\"Frame\", frame)\n",
    " \n",
    "    key = cv2.waitKey(1)\n",
    "    if key == 27:\n",
    "        break"
   ]
  },
  {
   "cell_type": "markdown",
   "metadata": {},
   "source": [
    "#### Programa ejemplo detección de polígonos"
   ]
  },
  {
   "cell_type": "code",
   "execution_count": 1,
   "metadata": {},
   "outputs": [],
   "source": [
    "import cv2\n",
    "import numpy as np\n",
    "\n",
    "font = cv2.FONT_HERSHEY_COMPLEX\n",
    "cap = cv2.VideoCapture(0)\n",
    "\n",
    "def nothing(x):\n",
    "    pass\n",
    "\n",
    "#Creamos una ventana llamada 'image' en la que habra todos los sliders\n",
    "cv2.namedWindow('image')\n",
    "cv2.createTrackbar('Hue Minimo','image',0,255,nothing)\n",
    "cv2.createTrackbar('Hue Maximo','image',0,255,nothing)\n",
    "cv2.createTrackbar('Saturation Minimo','image',0,255,nothing)\n",
    "cv2.createTrackbar('Saturation Maximo','image',0,255,nothing)\n",
    "cv2.createTrackbar('Value Minimo','image',0,255,nothing)\n",
    "cv2.createTrackbar('Value Maximo','image',0,255,nothing)\n",
    " \n",
    "while(1):\n",
    "    _,frame = cap.read() #Leer un frame\n",
    "    hsv = cv2.cvtColor(frame, cv2.COLOR_BGR2HSV) #Convertirlo a espacio de color HSV\n",
    "\n",
    "    #Los valores maximo y minimo de H,S y V se guardan en funcion de la posicion de los sliders\n",
    "    hMin = cv2.getTrackbarPos('Hue Minimo','image')\n",
    "    hMax = cv2.getTrackbarPos('Hue Maximo','image')\n",
    "    sMin = cv2.getTrackbarPos('Saturation Minimo','image')\n",
    "    sMax = cv2.getTrackbarPos('Saturation Maximo','image')\n",
    "    vMin = cv2.getTrackbarPos('Value Minimo','image')\n",
    "    vMax = cv2.getTrackbarPos('Value Maximo','image')\n",
    "\n",
    "    #Se crea un array con las posiciones minimas y maximas\n",
    "    lower=np.array([0,85,175])\n",
    "    upper=np.array([255,255,255])\n",
    "\n",
    "    #Deteccion de colores\n",
    "    mask = cv2.inRange(hsv, lower, upper)\n",
    "    kernel = np.ones((5, 5), np.uint8)\n",
    "    mask = cv2.erode(mask, kernel)\n",
    "\n",
    "    # Contours detection\n",
    "    _, contours, _ = cv2.findContours(mask, cv2.RETR_TREE, cv2.CHAIN_APPROX_SIMPLE)\n",
    "\n",
    "\n",
    "    for cnt in contours:\n",
    "        area = cv2.contourArea(cnt)\n",
    "        approx = cv2.approxPolyDP(cnt, 0.02*cv2.arcLength(cnt, True), True)\n",
    "        x = approx.ravel()[0]\n",
    "        y = approx.ravel()[1]\n",
    "\n",
    "        if area > 400:\n",
    "            objct = cv2.moments(mask)\n",
    "            cv2.drawContours(frame, [approx], 0, (0, 0, 0), 5)\n",
    "\n",
    "            if len(approx) == 3:\n",
    "                if objct['m00'] > 50000:\n",
    "                    cx = int(objct['m10']/objct['m00'])\n",
    "                    cy = int(objct['m01']/objct['m00'])\n",
    "                    cv2.circle(frame, (cx,cy), 10, (0,0,255), 4)\n",
    "                cv2.putText(frame, \"Triangle\", (x, y), font, 1, (0, 0, 0))\n",
    "            elif len(approx) == 4:\n",
    "                if objct['m00'] > 50000:\n",
    "                    cx = int(objct['m10']/objct['m00'])\n",
    "                    cy = int(objct['m01']/objct['m00'])\n",
    "                    cv2.circle(frame, (cx,cy), 10, (0,0,255), 4)\n",
    "                cv2.putText(frame, \"Rectangle\", (x, y), font, 1, (0, 0, 0))\n",
    "            elif len(approx) == 5:\n",
    "                if objct['m00'] > 50000:\n",
    "                    cx = int(objct['m10']/objct['m00'])\n",
    "                    cy = int(objct['m01']/objct['m00'])\n",
    "                    cv2.circle(frame, (cx,cy), 10, (0,0,255), 4)\n",
    "                cv2.putText(frame, \"Triangle\", (x, y), font, 1, (0, 0, 0))\n",
    "                cv2.putText(frame, \"Pentagono\", (x, y), font, 1, (0, 0, 0))\n",
    "            elif len(approx) == 6 :\n",
    "                cv2.putText(frame, \"Hexagono\", (x, y), font, 1, (0, 0, 0))\n",
    "            elif len(approx) == 7 :\n",
    "                cv2.putText(frame, \"Heptagono\", (x, y), font, 1, (0, 0, 0))\n",
    "            elif len(approx) == 8 :\n",
    "                cv2.putText(frame, \"Octagono\", (x, y), font, 1, (0, 0, 0))\n",
    "            elif 10 < len(approx) < 20:\n",
    "                cv2.putText(frame, \"Circle\", (x, y), font, 1, (0, 0, 0))\n",
    "\n",
    "    cv2.imshow(\"Frame\", frame)\n",
    "    cv2.imshow(\"Mask\", mask)\n",
    "\n",
    "    if cv2.waitKey(1) & 0xFF == ord('q'):\n",
    "        break\n",
    "cap.release()\n",
    "cv2.destroyAllWindows()"
   ]
  },
  {
   "cell_type": "code",
   "execution_count": null,
   "metadata": {},
   "outputs": [],
   "source": []
  }
 ],
 "metadata": {
  "kernelspec": {
   "display_name": "Python 3",
   "language": "python",
   "name": "python3"
  },
  "language_info": {
   "codemirror_mode": {
    "name": "ipython",
    "version": 3
   },
   "file_extension": ".py",
   "mimetype": "text/x-python",
   "name": "python",
   "nbconvert_exporter": "python",
   "pygments_lexer": "ipython3",
   "version": "3.6.7"
  }
 },
 "nbformat": 4,
 "nbformat_minor": 2
}
