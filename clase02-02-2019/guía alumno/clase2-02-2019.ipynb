{
 "cells": [
  {
   "cell_type": "markdown",
   "metadata": {},
   "source": [
    "# Clase 02-02-2019"
   ]
  },
  {
   "cell_type": "markdown",
   "metadata": {},
   "source": [
    "## Guía Alumno - @RobotistasMX"
   ]
  },
  {
   "cell_type": "markdown",
   "metadata": {},
   "source": [
    "### Material para clase"
   ]
  },
  {
   "cell_type": "markdown",
   "metadata": {},
   "source": [
    "https://drive.google.com/file/d/1tOSQbFwf_0LJab6L_stsVKHS_CBhgtMm/view?usp=sharing"
   ]
  },
  {
   "cell_type": "markdown",
   "metadata": {},
   "source": [
    "### Detección de caras y ojos"
   ]
  },
  {
   "cell_type": "code",
   "execution_count": 1,
   "metadata": {
    "collapsed": true
   },
   "outputs": [],
   "source": [
    "#El programa se subirá al terminr la clase\n",
    "import numpy as np\n",
    "import cv2 as cv\n",
    "\n",
    "\n",
    "face_cascade = cv.CascadeClassifier('haarcascades/haarcascade_frontalface_default.xml')\n",
    "eye_cascade = cv.CascadeClassifier('haarcascades/haarcascade_eye.xml')\n",
    "\n",
    "cap=cv.VideoCapture(0)\n",
    "while True:\n",
    "        _,frame = cap.read()\n",
    "        gray = cv.cvtColor(frame, cv.COLOR_BGR2GRAY)\n",
    "        faces = face_cascade.detectMultiScale(gray, 1.3, 5)\n",
    "        for (x,y,w,h) in faces:\n",
    "                cv.rectangle(frame, (x, y), (x+w, y+h), (0, 255, 0), 2)\n",
    "                eyes = eye_cascade.detectMultiScale(gray)\n",
    "                for (ex,ey,ew,eh) in eyes:\n",
    "                        cv.rectangle(frame,(ex,ey),(ex+ew,ey+eh),(0,0,255),3)\n",
    "        cv.imshow('frame',frame)\n",
    "        if cv.waitKey(10) == 27:\n",
    "                break\n",
    "cap.release()\n",
    "cv.destroyAllWindows()"
   ]
  },
  {
   "cell_type": "markdown",
   "metadata": {},
   "source": [
    "### Detección de caras y sonrisas"
   ]
  },
  {
   "cell_type": "code",
   "execution_count": 3,
   "metadata": {
    "collapsed": true
   },
   "outputs": [],
   "source": [
    "import numpy as np\n",
    "import cv2 as cv\n",
    "\n",
    "\n",
    "smile = cv.CascadeClassifier('haarcascades/haarcascade_smile.xml')\n",
    "face_cascade = cv.CascadeClassifier('haarcascades/haarcascade_frontalface_default.xml')\n",
    "eye_cascade = cv.CascadeClassifier('haarcascades/haarcascade_eye.xml')\n",
    "\n",
    "cap=cv.VideoCapture(0)\n",
    "while True:\n",
    "        _,frame = cap.read()\n",
    "        gray = cv.cvtColor(frame, cv.COLOR_BGR2GRAY)\n",
    "        faces = face_cascade.detectMultiScale(gray, 1.3, 5)\n",
    "        for (x,y,w,h) in faces:\n",
    "                cv.rectangle(frame, (x, y), (x+w, y+h), (0, 255, 0), 2)\n",
    "                roi_gray = gray[y:y+h, x:x+w]\n",
    "                roi_color = frame[y:y+h, x:x+w]\n",
    "                eyes = smile.detectMultiScale(\n",
    "                    roi_gray,\n",
    "                    scaleFactor=1.7,\n",
    "                    minNeighbors=22,\n",
    "                    minSize=(25, 25),\n",
    "                    flags=cv.CASCADE_SCALE_IMAGE\n",
    "                )\n",
    "                for (ex,ey,ew,eh) in eyes:\n",
    "                        cv.rectangle(roi_color,(ex,ey),(ex+ew,ey+eh),(0,0,255),3)\n",
    "        cv.imshow('frame',frame)\n",
    "        if cv.waitKey(10) == 27:\n",
    "                break\n",
    "cap.release()\n",
    "cv.destroyAllWindows()"
   ]
  },
  {
   "cell_type": "markdown",
   "metadata": {},
   "source": [
    "### Detección cuerpo "
   ]
  },
  {
   "cell_type": "code",
   "execution_count": 4,
   "metadata": {
    "collapsed": true
   },
   "outputs": [],
   "source": [
    "#El programa se subirá al terminr la clase\n",
    "import numpy as np\n",
    "import cv2 \n",
    "\n",
    "upperBody_cascade = cv2.CascadeClassifier('haarcascades/haarcascade_upperbody.xml')  \n",
    "lowerBody_cascade = cv2.CascadeClassifier('haarcascades/haarcascade_lowerbody.xml')   \n",
    "\n",
    "cap=cv2.VideoCapture(0)\n",
    "while True:\n",
    "        _,frame = cap.read()\n",
    "        gray = cv2.cvtColor(frame, cv2.COLOR_BGR2GRAY)\n",
    "        arrUpperBody = upperBody_cascade.detectMultiScale(gray)\n",
    "        arrLowerBody = lowerBody_cascade.detectMultiScale(gray, 1.1 , 3)\n",
    "        if arrUpperBody != ():\n",
    "            for (x,y,w,h) in arrUpperBody:\n",
    "                cv2.rectangle(frame,(x,y),(x+w,y+h),(255,0,0),2)\n",
    "            print('body found')\n",
    "\n",
    "        if arrLowerBody != ():\n",
    "            for (x,y,w,h) in arrLowerBody:\n",
    "                cv2.rectangle(frame,(x,y),(x+w,y+h),(0,255,0),2)\n",
    "            print('body found')\n",
    "        \n",
    "        cv2.imshow('frame',frame)\n",
    "        if cv2.waitKey(10) == 27:\n",
    "                break\n",
    "cap.release()\n",
    "cv2.destroyAllWindows()"
   ]
  },
  {
   "cell_type": "markdown",
   "metadata": {},
   "source": [
    "### Detección de gatos"
   ]
  },
  {
   "cell_type": "code",
   "execution_count": 5,
   "metadata": {
    "collapsed": true
   },
   "outputs": [],
   "source": [
    "#El programa se subirá al terminr la clase\n",
    "import numpy as np\n",
    "import cv2\n",
    "\n",
    "\n",
    "face_cascade = cv2.CascadeClassifier('haarcascades/haarcascade_frontalcatface_extended.xml')\n",
    "\n",
    "\n",
    "frame = cv2.imread(\"img/cat1.jpg\")\n",
    "gray = cv2.cvtColor(frame, cv2.COLOR_BGR2GRAY)\n",
    "faces = face_cascade.detectMultiScale(gray)\n",
    "for (i, (x, y, w, h)) in enumerate(faces):\n",
    "    cv2.rectangle(frame, (x, y), (x + w, y + h), (0, 0, 255), 2)\n",
    "    cv2.putText(frame, \"Cat #{}\".format(i + 1), (x, y - 10),  cv2.FONT_HERSHEY_SIMPLEX, 0.55, (0, 0, 255), 2)\n",
    "cv2.imshow('frame',frame)\n",
    "cv2.waitKey(0) \n",
    "\n",
    "cv2.destroyAllWindows()"
   ]
  },
  {
   "cell_type": "code",
   "execution_count": 6,
   "metadata": {
    "collapsed": true
   },
   "outputs": [],
   "source": [
    "#El programa se subirá al terminr la clase\n",
    "import numpy as np\n",
    "import cv2 \n",
    "\n",
    "\n",
    "face_cascade = cv2.CascadeClassifier('haarcascades/haarcascade_frontalcatface_extended.xml')\n",
    "\n",
    "cap=cv2.VideoCapture(0)\n",
    "while True:\n",
    "        _,frame = cap.read()\n",
    "        gray = cv2.cvtColor(frame, cv2.COLOR_BGR2GRAY)\n",
    "        faces = face_cascade.detectMultiScale(gray)\n",
    "        for (i, (x, y, w, h)) in enumerate(faces):\n",
    "            cv2.rectangle(frame, (x, y), (x + w, y + h), (0, 0, 255), 2)\n",
    "            cv2.putText(frame, \"Cat #{}\".format(i + 1), (x, y - 10),  cv2.FONT_HERSHEY_SIMPLEX, 0.55, (0, 0, 255), 2)\n",
    "        cv2.imshow('frame',frame)\n",
    "        if cv2.waitKey(10) == 27:\n",
    "                break\n",
    "cap.release()\n",
    "cv2.destroyAllWindows()"
   ]
  }
 ],
 "metadata": {
  "kernelspec": {
   "display_name": "Python 3",
   "language": "python",
   "name": "python3"
  },
  "language_info": {
   "codemirror_mode": {
    "name": "ipython",
    "version": 3
   },
   "file_extension": ".py",
   "mimetype": "text/x-python",
   "name": "python",
   "nbconvert_exporter": "python",
   "pygments_lexer": "ipython3",
   "version": "3.4.5"
  }
 },
 "nbformat": 4,
 "nbformat_minor": 2
}
